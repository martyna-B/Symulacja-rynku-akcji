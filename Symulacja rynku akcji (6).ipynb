{
 "cells": [
  {
   "cell_type": "code",
   "execution_count": 7,
   "id": "f7d2c092",
   "metadata": {},
   "outputs": [],
   "source": [
    "import matplotlib.pyplot as plt\n",
    "import datetime as dt\n",
    "import matplotlib.dates as mdates\n",
    "from sklearn.linear_model import LinearRegression\n",
    "from tabulate import tabulate\n",
    "import csv\n",
    "import os\n",
    "import math\n",
    "import numpy as np\n",
    "import random"
   ]
  },
  {
   "cell_type": "code",
   "execution_count": 8,
   "id": "e8abdb15",
   "metadata": {},
   "outputs": [],
   "source": [
    "def take_data(my_file, index):\n",
    "    \"\"\"\n",
    "    Returns a list which contains particular data from my_file.\n",
    "\n",
    "    Paramters\n",
    "    ---------\n",
    "    my_file(file)\n",
    "    \"\"\"\n",
    "    if os.path.isfile(my_file):\n",
    "        with open(my_file, \"r\") as csv_file:\n",
    "            csv_reader = csv.reader(csv_file)\n",
    "            lines = []\n",
    "            for line in csv_reader:\n",
    "                try:\n",
    "                    lines.append(float(line[index]))\n",
    "                except:\n",
    "                    lines.append(line[index])\n",
    "            del lines[0]\n",
    "        return lines\n",
    "    else:\n",
    "        raise FileNotFoundError"
   ]
  },
  {
   "cell_type": "code",
   "execution_count": null,
   "id": "3e18c8bf",
   "metadata": {},
   "outputs": [],
   "source": [
    "def data_plot(file_name, plot_title, time, inter):\n",
    "    \"\"\"\n",
    "    Creates a plot with datas on the x axis.\n",
    "    \"\"\"\n",
    "    if not os.path.isfile(my_file):\n",
    "        raise FileNotFoundError\n",
    "    if type(plot_title) != str or type(time) != int or type(inter) != int:\n",
    "        raise TypeError\n",
    "        \n",
    "    file_data = take_data(file_name, 1)\n",
    "    file_times = take_data(file_name, 0)\n",
    "    times = [dt.datetime.strptime(data[:10],'%Y-%m-%d').date() for data in file_times[time:]]\n",
    "    plt.gca().xaxis.set_major_formatter(mdates.DateFormatter('%Y-%m-%d'))\n",
    "    plt.gca().xaxis.set_major_locator(mdates.DayLocator(interval = inter))\n",
    "    plt.plot(times, file_data[time:])\n",
    "    plt.gcf().autofmt_xdate()\n",
    "    plt.title(plot_title)\n",
    "    plt.show()"
   ]
  },
  {
   "cell_type": "code",
   "execution_count": null,
   "id": "4923f761",
   "metadata": {
    "scrolled": true
   },
   "outputs": [],
   "source": [
    "Rynek akcji jest zjawiskiem towarzyszącym nam w wielu aspektach życia, pomimo tego, że niekoniecznie musimy to zauważać. \n",
    "Weźmy na przykład sytuację, w której na giełdzie notowana jest pewna sieć sklepów. Inwestując w taką spółkę przekazujemy \n",
    "w pewien sposób firmie nasze pieniądze, która ta może przeznaczyć chociażby na otworzenie nowego lokalu. Taka jest główna\n",
    "idea giełdy, dzięki której wszystkim znana firma Nike mogła w 1980 roku zdobyć fundusze na otworzenie nowych sklepów i rozwój\n",
    "fabryk, co pozwoliło jej po latach zostać jedną z największych firm obuwniczo-odzieżowych.\n",
    "Giełda jest nieprzewidywalna, wpływ na nią ,jak i notowane na niej firmy ma wiele czynników losowych, takich jak kontrowersyjne\n",
    "wypowiedzi bądź działania znanych osób. Bardzo dobrze widać to na przykładzie ceny akcji Tesli, która większość swojej wartości \n",
    "giełdowej zawdzięcza nietuzinkowym wybrykom Elona Muska.\n",
    "Pomimo swojej losowości w OGÓLNYM ROZRACHUNKU DŁUGOTERMINOWE ZACHOWANIA są w pewien sposób przewidywalne i można przy \n",
    "wprowadzeniu pewnych uproszczeń opisać je za pomocą równań różniczkowych, CO ZROBIMY W PONIŻSZYM PROJEKCIE. Głównym podziałem \n",
    "jest na rynek byka oraz rynek niedźwiedzia, czyli okresy gdy duża większość spółek odpowiednio rośnie oraz spada w danym \n",
    "sektorze. Dobrym odniesieniem do ogólnej kondycji rynku amerykańskiego jest natomiast S&P 500."
   ]
  },
  {
   "cell_type": "markdown",
   "id": "74c68b35",
   "metadata": {},
   "source": [
    "### S&P 500"
   ]
  },
  {
   "cell_type": "markdown",
   "id": "2ee6adea",
   "metadata": {},
   "source": [
    "S&P 500 jest jednym z najbardziej znanych wskaźników. Jest to indeks giełdowy, w którego skład wchodzi 500 przedsiębiorstw o największej kapitalizacji; głównie przedsiębiorstwa amerykańskie. Patrząc na zmiany cen akcji S&P 500, możemy dużo powiedzieć o ogólnej kondycji rynku na świecie.\n"
   ]
  },
  {
   "cell_type": "code",
   "execution_count": null,
   "id": "a20396f6",
   "metadata": {},
   "outputs": [],
   "source": [
    "data_plot(\"SP500.csv\", \"S&P500\", 1250, 500)"
   ]
  },
  {
   "cell_type": "markdown",
   "id": "ee55a407",
   "metadata": {},
   "source": [
    "W jaki sposób możemy opisać zmiany ceny równaniem? Spróbujmy wyjść z prostego modelu, który zakłada, że im wyższa cena akcji, tym szybciej będzie ona rosła. Niech $C(t)$ oznacza wartość ceny w czasie $t$, natomiast $w$ współczynnik wzrostu ceny:\n",
    "\n",
    "$$\\frac{\\mathrm{d}C}{\\mathrm{d}t} = Cw.$$\n",
    "\n",
    "Dla uproszczenia obliczeń wygenerujmy wykres z liczbami zamiast dat:"
   ]
  },
  {
   "cell_type": "code",
   "execution_count": null,
   "id": "d5d535e3",
   "metadata": {},
   "outputs": [],
   "source": [
    "sp500 = take_data(\"SP500.csv\", 1) #z liczbami na osi 0x\n",
    "plt.title(\"S&P500\")\n",
    "plt.plot(sp500[1250:])\n",
    "plt.show()"
   ]
  },
  {
   "cell_type": "markdown",
   "id": "e4f55fca",
   "metadata": {},
   "source": [
    "Odczytajmy z wykresu dwie wartości: $$C(0) = 735$$  $$C(3000) = 3787$$ a następnie rozwiążmy równanie.\n",
    "$$\\frac{\\mathrm{d}C}{\\mathrm{d}t} = Cw$$\n",
    "\n",
    "$$\\int \\frac{\\mathrm{d}C}{C} = w\\int \\mathrm{d}t$$\n",
    "\n",
    "$$\\mathrm{ln}(C) = wt + K$$\n",
    "\n",
    "Z warunku $C(0) = 735$:\n",
    "\n",
    "$$K = \\mathrm{ln}(735) \\approx 6,6 $$\n",
    "\n",
    "Natomiast z warunku $C(3000) = 3787$:\n",
    "\n",
    "$$w \\approx 0,00054$$\n",
    "\n",
    "Ostatecznie rozwiązaniem będzie:\n",
    "\n",
    "$$ C(t) = e^{6,6}\\cdot e^{0,00054t} $$"
   ]
  },
  {
   "cell_type": "code",
   "execution_count": null,
   "id": "010f97fc",
   "metadata": {},
   "outputs": [],
   "source": [
    "time = [t for t in range(0, 3216)]\n",
    "solution = [math.exp(6.6)*math.exp(0.00054*t) for t in range(0, 3216)]\n",
    "plt.plot(sp500[1250:])\n",
    "plt.plot(time, solution)\n",
    "plt.show()"
   ]
  },
  {
   "cell_type": "markdown",
   "id": "c6954158",
   "metadata": {},
   "source": [
    "Początkowo wykres całkiem dobrze odzwierciedla dynamikę zmiany cen akcji, jednak po $t = 3000$ tempo wzrostu jest zbyt niskie. Odczytajmy wartość $C$ dla $t = 3150$:\n",
    "$$C(3150) = 4524$$ a następnie znajdźmy stałe $K$ oraz $w$ dla nowych warunków.\n",
    "\n",
    "Z warunku $C(0) = 735$:\n",
    "\n",
    "$$K = \\mathrm{ln}(735) \\approx 6,6 $$\n",
    "\n",
    "Natomiast z warunku $C(3150) = 4524$:\n",
    "\n",
    "$$w \\approx 0,00056$$\n",
    "\n",
    "Ostatecznie rozwiązaniem będzie:\n",
    "\n",
    "$$ C(t) = e^{6,6}\\cdot e^{0,00056t} $$"
   ]
  },
  {
   "cell_type": "code",
   "execution_count": null,
   "id": "b82d38d7",
   "metadata": {},
   "outputs": [],
   "source": [
    "time = [t for t in range(0, 3216)]\n",
    "solution = [math.exp(6.6)*math.exp(0.00056*t) for t in range(0, 3216)]\n",
    "plt.plot(sp500[1250:])\n",
    "plt.plot(time, solution)\n",
    "plt.show()"
   ]
  },
  {
   "cell_type": "markdown",
   "id": "b6d2bf0d",
   "metadata": {},
   "source": [
    "Widać, że krzywa lepiej przybliża wykres cen akcji w późniejszym okresie, jednak mniej pokrywa się ze stanem sprzed roku 2016 (na wykresie będzie to wartość 1700). "
   ]
  },
  {
   "cell_type": "markdown",
   "id": "0a92c449",
   "metadata": {},
   "source": [
    "### IS3N\n",
    "Przyjrzyjmy się wykresowi akcji IS3N. Zachowuje się on inaczej od wykresu cen S&P500 - można zauważyć, że w pewnym momencie wartość akcji zaczyna się stabilizować i przestaje rosnąć."
   ]
  },
  {
   "cell_type": "code",
   "execution_count": null,
   "id": "8021915f",
   "metadata": {},
   "outputs": [],
   "source": [
    "is3n_times = take_data(\"IS3N.DE.csv\", 0)\n",
    "times = [dt.datetime.strptime(data[:10],'%Y-%m-%d').date() for data in is3n_times[1350:]]\n",
    "plt.gca().xaxis.set_major_formatter(mdates.DateFormatter('%Y-%m-%d'))\n",
    "plt.gca().xaxis.set_major_locator(mdates.DayLocator(interval = 80))\n",
    "plt.plot(times, is3n[1350:])\n",
    "plt.gcf().autofmt_xdate()\n",
    "plt.title(\"IS3N.DE\")\n",
    "plt.show()"
   ]
  },
  {
   "cell_type": "markdown",
   "id": "d5442ba1",
   "metadata": {},
   "source": [
    "Można zatem spodziewać się, że dynamikę zmian dobrze przybliży równanie logarytmiczne, w którym pojemnością środowiskową będzie $k = 32$:\n",
    "\n",
    "$$C'(t) = r\\cdot C(t)\\cdot(1- \\frac{C(t)}{32})$$\n",
    "\n",
    "Rozwiązaniem będzie:\n",
    "\n",
    "$$C(t) = \\frac{1}{\\frac{1}{32} + (\\frac{1}{C_0} - \\frac{1}{32})e^{-rt}}$$\n",
    "\n",
    "Aby odczytać dane z wykresu, wygenerujmy wykres z liczbami na osi $x$:"
   ]
  },
  {
   "cell_type": "code",
   "execution_count": null,
   "id": "a9c7809e",
   "metadata": {},
   "outputs": [],
   "source": [
    "is3n = take_data(\"IS3N.DE.csv\", 4)\n",
    "for index in range(0, len(is3n)):\n",
    "    if is3n[index] == 'null':\n",
    "        is3n[index] = is3n[index - 1]\n",
    "        \n",
    "plt.title(\"IS3N.DE\")\n",
    "plt.plot(is3n[1350:])\n",
    "plt.show()"
   ]
  },
  {
   "cell_type": "markdown",
   "id": "bdc5ecd8",
   "metadata": {},
   "source": [
    "I odczytajmy potrzebne dane; więcej niż dla dwóch punktów, aby otrzymać możliwie dokładny wynik:\n",
    "\n",
    "$$C_0 = C(0) = 20,176001$$\n",
    "\n",
    "$$C(180) = 25,848$$\n",
    "$$C(50) = 23,77$$\n",
    "$$C(100) = 25,812$$\n",
    "\n",
    "\n",
    "Wyliczmy współczynnik $r$. Po przekształceniach dostaniemy, że:\n",
    "\n",
    "$$r = \\frac{\\mathrm{ln}(\\frac{C(K - C_0)}{C_0(K-C)})}{t}$$\n",
    "\n",
    "Po podstawieniu znanych wartości dla $t = 50, 100, 180$ otrzymujemy:\n",
    "\n",
    "$$r_1 = 0,01053, \\quad  r_2 = 0,00893, \\quad r_3 = 0,005006$$\n",
    "\n",
    "Po wyliczeniu średniej:\n",
    "\n",
    "$$r = 0.00815$$ \n",
    "\n",
    "Mamy więc rozwiązanie postaci: \n",
    "\n",
    "$$C(t) = \\frac{1}{\\frac{1}{32} + 0,01831 \\cdot e^{-0,00815t}}$$"
   ]
  },
  {
   "cell_type": "code",
   "execution_count": null,
   "id": "0aefa043",
   "metadata": {},
   "outputs": [],
   "source": [
    "time = [t for t in range(0, 442)]\n",
    "solution = [1/(1/32 + 0.01831 * math.exp(-0.00815*t)) for t in range(0, 442)]\n",
    "plt.plot(is3n[1350:])\n",
    "plt.plot(time, solution)\n",
    "plt.show()"
   ]
  },
  {
   "cell_type": "markdown",
   "id": "3554ca65",
   "metadata": {},
   "source": [
    "### Tesla"
   ]
  },
  {
   "cell_type": "markdown",
   "id": "08464f4d",
   "metadata": {},
   "source": [
    "Przyjrzyjmy się wykresowi przedstawiającemu ceny akcji firmy Tesla:"
   ]
  },
  {
   "cell_type": "code",
   "execution_count": null,
   "id": "2f4ee5ac",
   "metadata": {},
   "outputs": [],
   "source": [
    "tesla = take_data(\"Tesla.csv\", 1)\n",
    "tesla_times = take_data(\"Tesla.csv\", 0)\n",
    "times = [dt.datetime.strptime(data[:10],'%Y-%m-%d').date() for data in tesla_times[:1750]]\n",
    "plt.gca().xaxis.set_major_formatter(mdates.DateFormatter('%Y-%m-%d'))\n",
    "plt.gca().xaxis.set_major_locator(mdates.DayLocator(interval = 300))\n",
    "plt.plot(times, tesla[:1750])\n",
    "plt.gcf().autofmt_xdate()\n",
    "plt.title(\"Tesla\")\n",
    "plt.show()"
   ]
  },
  {
   "cell_type": "markdown",
   "id": "92d5515d",
   "metadata": {},
   "source": [
    "Wygląda on oryginalnie: przez kilka lat cena utrzymywała się na względnie stałym poziomie. Pod koniec 2019 roku zaczęła rosnąć, ale znacznie spadła w okolicach marca 2020 roku z powodu paniki związanej z rozpoczynającą się pandemią. To jednak tylko chwilowo zahamowało jej wzrost; po kilku miesiącach cena wzrastała w bardzo szybkim tempie. \n",
    "\n",
    "Spróbujmy przybliżyć dynamikę zmian cen akcji Tesli za pomocą prostego równania:\n",
    "\n",
    "$$\\frac{\\mathrm{d}C}{\\mathrm{d}t} = Cw.$$\n",
    "\n",
    "Gdzie $C(t)$ oznacza cenę w czasie $t$, natomiast $w$ współczynnik wzrostu ceny.\n",
    "Mamy więc:\n",
    "\n",
    "$$\\mathrm{ln}(C) = wt + K$$"
   ]
  },
  {
   "cell_type": "markdown",
   "id": "5ddb43ff",
   "metadata": {},
   "source": [
    "Aby wyznaczyć współczynnik $w$ oraz stałą całkowania, potrzebujemy odczytać dwie wartości z wykresu. Zamieńmy więc daty na liczby reprezentujące czas:"
   ]
  },
  {
   "cell_type": "code",
   "execution_count": null,
   "id": "45c556e6",
   "metadata": {},
   "outputs": [],
   "source": [
    "tesla = take_data(\"Tesla.csv\", 1) #z liczbami na osi 0x\n",
    "plt.title(\"Tesla\")\n",
    "plt.plot(tesla[:1750])\n",
    "plt.show()"
   ]
  },
  {
   "cell_type": "markdown",
   "id": "54b4073b",
   "metadata": {},
   "source": [
    "Odczytajmy dane dla $t=1400$ oraz dla $t=1750$:\n",
    "$$C(1400) = 43,128$$\n",
    "$$C(1750) = 735,11$$\n",
    "\n",
    "Po podstawieniu do równania dostajemy:\n",
    "\n",
    "$$w \\approx 0,0081 $$\n",
    "$$K \\approx -7,5792 $$\n",
    "\n",
    "Więc ostatecznie:\n",
    "\n",
    "$$ C(t) = e^{-7,5792}\\cdot e^{0,0081t} $$"
   ]
  },
  {
   "cell_type": "code",
   "execution_count": null,
   "id": "bc0da615",
   "metadata": {},
   "outputs": [],
   "source": [
    "time = [t for t in range(0, 1750)]\n",
    "solution = [math.exp(-7.5792)*math.exp(0.0081*t) for t in range(0, 1750)]\n",
    "plt.plot(tesla[:1750])\n",
    "plt.plot(time, solution)\n",
    "plt.show()"
   ]
  },
  {
   "cell_type": "markdown",
   "id": "a087a336",
   "metadata": {},
   "source": [
    "Krzywa w dobry sposób odwzorowuje dynamikę zmian ceny akcji Tesli.\n",
    "\n",
    "Jednak zobaczmy, co stało się z cenami Tesli w późniejszym czasie:"
   ]
  },
  {
   "cell_type": "code",
   "execution_count": null,
   "id": "3cc89acd",
   "metadata": {},
   "outputs": [],
   "source": [
    "time = [t for t in range(0, 1982)]\n",
    "plt.plot(tesla)\n",
    "plt.show()"
   ]
  },
  {
   "cell_type": "markdown",
   "id": "6ad55e6f",
   "metadata": {},
   "source": [
    "Akcje zaczęły gwałtownie spadać! Jeżeli spróbujemy porównać je z otrzymanym rozwiązaniem, otrzymamy:"
   ]
  },
  {
   "cell_type": "code",
   "execution_count": null,
   "id": "18f67a02",
   "metadata": {},
   "outputs": [],
   "source": [
    "time = [t for t in range(0, 1982)]\n",
    "solution = [math.exp(-7.5792)*math.exp(0.0081*t) for t in range(0, 1982)]\n",
    "plt.plot(tesla)\n",
    "plt.plot(time, solution)\n",
    "plt.show()"
   ]
  },
  {
   "cell_type": "markdown",
   "id": "09a9d8f8",
   "metadata": {},
   "source": [
    "Widać więc, że równanie było dobrze dopasowane do zachowania cen akcji Tesli tylko do pewnego momentu, ponieważ nie przewidziało nagłego spadku.\n",
    "\n",
    "Dlaczego jednak nastąpił ten spadek? I czy moglibyśmy przewidzieć go metodą analityczną?\n",
    "\n",
    "Okazuje się, że dużą rolę w zachowaniu rynku akcji odgrywają czynniki losowe. Nagłe spadki lub wzrosty moogą być spowodowane wybuchem pandemii, niestabilną sytuacją gospodarczą, zmianą zarządu w danej firmie lub nawet nieprzemyślaną wypowiedzią prezesa. Nie wszystko jesteśmy w stanie przewidzieć. "
   ]
  },
  {
   "cell_type": "markdown",
   "id": "d1251486",
   "metadata": {},
   "source": [
    "# Regresja liniowa na przykładzie Forda\n",
    "Spójrzmy na wykres cen akcji firmy Ford. "
   ]
  },
  {
   "cell_type": "code",
   "execution_count": null,
   "id": "6c1b4725",
   "metadata": {},
   "outputs": [],
   "source": [
    "data_plot(\"Ford.csv\", \"Ford\", 0, 350)"
   ]
  },
  {
   "cell_type": "markdown",
   "id": "cf1f3c7b",
   "metadata": {},
   "source": [
    "Ciężko dopatrzyć się tutaj reguły wzrostu lub spadku - największą rolę, jak się zdaje, odegrały czynniki losowe. Czy istnieje sposób, w jaki możemy odwzorować to zachowanie?\n",
    "\n",
    "Można spodziewać się, że ceny akcji Forda są zależne od ogólnej kondycji sektora związanego z motoryzacją. Spójrzmy na wykresy pokrewnych firm dla takiego samego przedziału czasowego:"
   ]
  },
  {
   "cell_type": "code",
   "execution_count": null,
   "id": "55b7ef59",
   "metadata": {},
   "outputs": [],
   "source": [
    "data_plot(\"GM.csv\", \"General Motors\", 336, 400)"
   ]
  },
  {
   "cell_type": "markdown",
   "id": "544361e9",
   "metadata": {},
   "source": [
    "General Motors jest jedną z największych spółek na świecie. Zajmuje się między innymi produkcją samochodów i silników. "
   ]
  },
  {
   "cell_type": "code",
   "execution_count": null,
   "id": "ebba2214",
   "metadata": {},
   "outputs": [],
   "source": [
    "data_plot(\"Toyota_2.csv\", \"Toyota\", 335, 400)"
   ]
  },
  {
   "cell_type": "code",
   "execution_count": null,
   "id": "d4299370",
   "metadata": {},
   "outputs": [],
   "source": [
    "data_plot(\"Mazda.csv\", \"Mazda\", 6, 400)"
   ]
  },
  {
   "cell_type": "code",
   "execution_count": null,
   "id": "bbcf4860",
   "metadata": {},
   "outputs": [],
   "source": [
    "data_plot(\"Hyundai.csv\", \"Hyundai\", 0, 400)"
   ]
  },
  {
   "cell_type": "markdown",
   "id": "8762f712",
   "metadata": {},
   "source": [
    "Na podstawie tych wykresów oraz wykresu S&P500 spróbujemy odwzorować zachowanie akcji Forda. Posłuży nam do tego regresja liniowa.\n",
    "\n",
    "Najpierw pobieramy potrzebne dane i ucinamy je tak, by obejmowały właściwy czas (taki sam jak dane dla Forda):"
   ]
  },
  {
   "cell_type": "code",
   "execution_count": null,
   "id": "4573329e",
   "metadata": {},
   "outputs": [],
   "source": [
    "sp500 = take_data(\"SP500.csv\", 1)\n",
    "Ford = take_data(\"Ford.csv\", 1)\n",
    "GM = take_data(\"GM.csv\", 1)\n",
    "Toyota = take_data(\"Toyota_2.csv\", 1)\n",
    "Mazda = take_data(\"Mazda.csv\", 1)\n",
    "Hyundai = take_data(\"Hyundai.csv\", 1)\n",
    "\n",
    "sp500 = sp500[2022:]\n",
    "GM= GM[336:]\n",
    "Toyota = Toyota[325:]\n",
    "Mazda = Mazda[6:]"
   ]
  },
  {
   "cell_type": "markdown",
   "id": "4a52ab47",
   "metadata": {},
   "source": [
    "Następnie logarytmizujemy zmiany cen wszystkich akcji:"
   ]
  },
  {
   "cell_type": "code",
   "execution_count": null,
   "id": "2b5630db",
   "metadata": {},
   "outputs": [],
   "source": [
    "delt = np.diff(np.log(Ford))\n",
    "delt_sp500 = np.diff(np.log(sp500)) \n",
    "delt_GM = np.diff(np.log(GM)) \n",
    "delt_Toyota = np.diff(np.log(Toyota))\n",
    "delt_Hyundai = np.diff(np.log(Hyundai))\n",
    "delt_Mazda = np.diff(np.log(Mazda))"
   ]
  },
  {
   "cell_type": "markdown",
   "id": "d70894bc",
   "metadata": {},
   "source": [
    "### Jak działa regresja liniowa?"
   ]
  },
  {
   "cell_type": "markdown",
   "id": "7305f269",
   "metadata": {},
   "source": [
    "Chcemy odzworować zachowanie cen akcji firmy $Y$. Aby to zrobić, bierzemy pod uwagę ceny akcji z firm: $X_1, X_2, \\dots, X_n$. Mamy więc równanie:\n",
    "\n",
    "$$ Y(t) = \\beta_0 + \\beta_1 \\cdot X_1(t) + \\dots + \\beta_n \\cdot X_n(t) $$\n",
    "\n",
    "gdzie $X_1(t), \\dots , X_n(t)$ oznaczają zmiany cen akcji poszczególnych firm $X_k$ dla czasu $t = 0, 1, 2, 3...$\n",
    "\n",
    "Współczynniki $\\beta_0, \\beta_1, \\beta_2 \\dots$ na ten moment są nieznane. $\\beta_0$ jest wyrazem wolnym w równaniu, odpowiada więc przesunięciu wykresu. Pozostałe współczynniki: $\\beta_k$, gdzie $k \\ne 0$ oznaczają to jak istotne dla zmian cen akcji firmy $Y$ są zmiany cen akcji firmy $X_k$.\n",
    "\n",
    "Aby wyliczyć współczynniki, bierzemy pewien czas dla którego program będzie odwzorowywał wykres cen firmy $Y$, biorąc ceny akcji firm $X_1, X_2,\\dots, X_n$ z odpowiednią wagą. Po jego upływie wyliczana jest średnia ważność każdego składnika, czyli współczynniki $\\beta_1, \\beta_2, \\dots, \\beta_n$ oraz wyraz wolny $\\beta_0$. \n",
    "\n",
    "Dla $t = 1, 2, \\dots, j$ można przedstawić to równanie w postaci macierzowej i skorzystamy z tego w poniższej funkcji linear_regression_plot. Zapiszmy $Y(i)$ jako $y_i$, a $X_k(i)$ jako $x_{ik}$. Wtedy:\n",
    "$$ y_i = \\beta_0 + \\beta_1 \\cdot x_{i1} + \\dots + \\beta_n \\cdot x_{in} $$.\n",
    "\n",
    "W postaci macierzowej:\n",
    "\n",
    "$$ Y = \\begin{pmatrix} y_1 \\\\ y_2 \\\\ \\vdots \\\\ y_j \\end{pmatrix}, \n",
    "\\quad \n",
    "   X = \\begin{pmatrix} 1 & x_{11} & x_{12} & \\dots & x_{1n} \\\\ 1  & x_{21} & x_{22} & \\dots & x_{2n} \\\\ \\vdots & \\vdots & \\vdots & \\ddots & \\vdots \\\\ 1 & x_{j1} & x_{j2} & \\dots & x_{jn} \\end{pmatrix},\n",
    "   \\quad \\beta = \\begin{pmatrix} \\beta_1 \\\\ \\beta_2 \\\\ \\vdots \\\\ \\beta_n \\end{pmatrix} $$\n",
    "    \n",
    "Mamy więc:\n",
    "\n",
    "$$ Y = X \\cdot \\beta $$"
   ]
  },
  {
   "cell_type": "code",
   "execution_count": null,
   "id": "d5ebdfe0",
   "metadata": {},
   "outputs": [],
   "source": [
    "def linear_regression_plot(cal, which_firms, array = False):\n",
    "    if type(cal) != int or type(which_firms) != str or type(array) != bool:\n",
    "        raise TypeError\n",
    "        \n",
    "    Y = delt[0:cal,]  # próbka początkowa użyta do trenowania regresji czyli do znalezienia bet w równianiu 1)\n",
    "    Y_real = delt[cal:,]\n",
    "    X0 = np.ones(np.shape(Y))\n",
    "    \n",
    "    if which_firms == \"S&P500\":\n",
    "        X1 = delt_sp500[0:cal,]\n",
    "        X_fut = np.array([np.array(np.ones(np.shape(Y_real))),np.array(delt_sp500[cal:,] )],dtype=object).T\n",
    "        X = np.array([X0,X1]).T\n",
    "        \n",
    "    elif which_firms == \"GM\":\n",
    "        X1 = delt_GM[0:cal,]\n",
    "        X_fut = np.array([np.array(np.ones(np.shape(Y_real))),np.array(delt_GM[cal:,] )],dtype=object).T\n",
    "        X = np.array([X0,X1]).T\n",
    "        \n",
    "    elif which_firms == \"S&P500 & GM\":\n",
    "        X1 = delt_sp500[0:cal,] \n",
    "        X2 = delt_GM[0:cal,]    \n",
    "        X_fut = np.array([np.array(np.ones(np.shape(Y_real))),np.array(delt_sp500[cal:,] ),np.array(delt_GM[cal:,] )],dtype=object).T\n",
    "        X = np.array([X0,X1,X2]).T\n",
    "        \n",
    "    elif which_firms == \"Toyota & GM\":\n",
    "        X1 = delt_Toyota[0:cal,] \n",
    "        X2 = delt_GM[0:cal,] \n",
    "        X_fut = np.array([np.array(np.ones(np.shape(Y_real))),np.array(delt_Toyota[cal:,]*30 ),np.array(delt_GM[cal:,] )],dtype=object).T\n",
    "        X = np.array([X0,X1, X2]).T\n",
    "    \n",
    "    elif which_firms == \"S&P500 & Toyota & GM\":\n",
    "        X1 = delt_Toyota[0:cal,] \n",
    "        X2 = delt_GM[0:cal,]\n",
    "        X3 = delt_sp500[0:cal,]\n",
    "    \n",
    "        X_fut = np.array([np.array(np.ones(np.shape(Y_real))),np.array(delt_sp500[cal:,] ),np.array(delt_Toyota[cal:,] ),np.array(delt_GM[cal:,] )],dtype=object).T\n",
    "        X = np.array([X0,X1,X2,X3]).T \n",
    "        \n",
    "    elif which_firms == \"S&P500 & Toyota & GM & Hyundai\":\n",
    "        X1 = delt_Toyota[0:cal,] \n",
    "        X2 = delt_GM[0:cal,]\n",
    "        X3 = delt_sp500[0:cal,]\n",
    "        X4 = delt_Hyundai[0:cal,]\n",
    "    \n",
    "        X_fut = np.array([np.array(np.ones(np.shape(Y_real))),np.array(delt_sp500[cal:,] ),np.array(delt_Toyota[cal:,] ),np.array(delt_GM[cal:,] ), np.array(delt_Hyundai[cal:,] )],dtype=object).T\n",
    "        X = np.array([X0,X1,X2,X3,X4]).T \n",
    "        \n",
    "    elif which_firms == \"S&P500 & Toyota & GM & Hyundai & Mazda\":\n",
    "        X1 = delt_Toyota[0:cal,] \n",
    "        X2 = delt_GM[0:cal,]\n",
    "        X3 = delt_sp500[0:cal,]\n",
    "        X4 = delt_Hyundai[0:cal,]\n",
    "        X5 = delt_Mazda[0:cal,]\n",
    "    \n",
    "        X_fut = np.array([np.array(np.ones(np.shape(Y_real))),np.array(delt_sp500[cal:,] ),np.array(delt_Toyota[cal:,] ),np.array(delt_GM[cal:,] ), np.array(delt_Hyundai[cal:,] ), np.array(delt_Mazda[cal:,])],dtype=object).T\n",
    "        X = np.array([X0,X1,X2,X3,X4,X5]).T \n",
    "            \n",
    "    elif which_firms == \"GM & Hyundai\":\n",
    "        X1 = delt_GM[0:cal,] \n",
    "        X2 = delt_Hyundai[0:cal,]\n",
    "        X_fut = np.array([np.array(np.ones(np.shape(Y_real))),np.array(delt_GM[cal:,]),np.array(delt_Hyundai[cal:,]*100 )],dtype=object).T\n",
    "        X = np.array([X0,X1,X2]).T\n",
    "        \n",
    "    elif which_firms == \"S&P500 & Hyundai & GM\":\n",
    "        X1 = delt_sp500[0:cal,]\n",
    "        X2 = delt_Hyundai[0:cal,] \n",
    "        X3 = delt_GM[0:cal,]\n",
    "        X_fut = np.array([np.array(np.ones(np.shape(Y_real))),np.array(delt_sp500[cal:,] ),np.array(delt_Hyundai[cal:,] ),np.array(delt_GM[cal:,] )],dtype=object).T\n",
    "        X = np.array([X0,X1,X2,X3]).T \n",
    "        \n",
    "    elif which_firms == \"Mazda\":\n",
    "        X1 = delt_Mazda[0:cal,]\n",
    "        X_fut = np.array([np.array(np.ones(np.shape(Y_real))),np.array(delt_Mazda[cal:,]*15 )],dtype=object).T\n",
    "        X = np.array([X0,X1]).T\n",
    "        \n",
    "    elif which_firms == \"Mazda & Huyndai\":\n",
    "        X1 = delt_Mazda[0:cal,] \n",
    "        X2 = delt_Hyundai[0:cal,]\n",
    "        X_fut = np.array([np.array(np.ones(np.shape(Y_real))),np.array(delt_Mazda[cal:,]),np.array(delt_Hyundai[cal:,]*100 )],dtype=object).T\n",
    "        X = np.array([X0,X1,X2]).T\n",
    "        \n",
    "    elif which_firms == \"Toyota & Mazda & Hyundai\":\n",
    "        X1 = delt_Toyota[0:cal,] \n",
    "        X2 = delt_Mazda[0:cal,] \n",
    "        X3 = delt_Hyundai[0:cal,]\n",
    "        X_fut = np.array([np.array(np.ones(np.shape(Y_real))),np.array(delt_Toyota[cal:,]*30 ),np.array(-delt_Mazda[cal:,] *30),np.array(delt_Hyundai[cal:,] *30)],dtype=object).T\n",
    "        X = np.array([X0,X1,X2,X3]).T \n",
    "        \n",
    "    elif which_firms == \"Hyundai\":\n",
    "        X1 = delt_Hyundai[0:cal,]\n",
    "        X_fut = np.array([np.array(np.ones(np.shape(Y_real))),np.array(delt_Hyundai[cal:,] *105)],dtype=object).T\n",
    "        X = np.array([X0,X1]).T\n",
    "        \n",
    "    elif which_firms == \"Toyota\":\n",
    "        X1 = delt_Toyota[0:cal,]\n",
    "        X_fut = np.array([np.array(np.ones(np.shape(Y_real))),np.array(delt_Toyota[cal:,] *30 )],dtype=object).T\n",
    "        X = np.array([X0,X1]).T\n",
    "        \n",
    "    else:\n",
    "        raise ValueError(\"No firm '%s'\" % which_firms)\n",
    "        \n",
    "    Y = np.array(Y).reshape(-1,1)\n",
    "    \n",
    "    model = LinearRegression(fit_intercept = False)\n",
    "    model.fit(X, Y)      # na podstawie równania - tu wchodzą wszystkie zmienne \n",
    "    \n",
    "    betas = model.coef_  # współcznynniki równania\n",
    "    \n",
    "    Y_fut = list(np.dot(X_fut,betas.T)) # prognozowane wartości zmiennej\n",
    "    \n",
    "    if array:\n",
    "        seperate_names = list(which_firms)\n",
    "        headers = [\"Wyraz wolny\"]\n",
    "        \n",
    "        name = ''\n",
    "        for letter in seperate_names:\n",
    "            if letter != ' ':\n",
    "                name += letter\n",
    "            else:\n",
    "                headers.append(name)\n",
    "                name = ''\n",
    "                \n",
    "        if name != '':\n",
    "            headers.append(name)\n",
    "    \n",
    "        for name in headers:\n",
    "            if name == '&':\n",
    "                headers.remove(name)\n",
    "            \n",
    "        table = tabulate(betas, headers, tablefmt=\"fancy_grid\", numalign = \"center\", stralign = \"center\")\n",
    "        print(table)\n",
    "\n",
    "    forecasts = [Ford[cal]]\n",
    "    for i in range(np.shape(Y_fut)[0]):\n",
    "        forecasts.append(forecasts[i]*np.exp(float(Y_fut[i]))) # tylko początkowy punkt brany z prawdziwej ceny, resta wysymulowane\n",
    "     \n",
    "    plt.plot(forecasts, label = \"Prognozowana cena\")\n",
    "    plt.plot(Ford[cal+1:], label = \"Rzeczywista cena\")\n",
    "    plt.legend()\n",
    "    plt.title('Ceny akcji firmy Ford prognozowane na podstawie cen akcji %s' % which_firms)\n",
    "    plt.show()"
   ]
  },
  {
   "cell_type": "markdown",
   "id": "b4aff238",
   "metadata": {},
   "source": [
    "## Ceny akcji firmy Ford"
   ]
  },
  {
   "cell_type": "markdown",
   "id": "5d9656be",
   "metadata": {},
   "source": [
    "### Szacowanie na podstawie akcji S&P500"
   ]
  },
  {
   "cell_type": "markdown",
   "id": "d338f298",
   "metadata": {},
   "source": [
    "Wypróbujmy to narzędzie i odwzorujmy wykres przedstawiający ceny akcji firmy Ford na podstawie cen akcji S&P500."
   ]
  },
  {
   "cell_type": "code",
   "execution_count": null,
   "id": "51c65c8a",
   "metadata": {},
   "outputs": [],
   "source": [
    "fig, (ax1, ax2) = plt.subplots(1, 2, figsize=(14,4))\n",
    "fig.suptitle('Porównanie cen akcji Forda i S&P500')\n",
    "ax1.plot(Ford, color = \"black\")\n",
    "ax1.axvline(x=1200)\n",
    "ax1.set_title(\"Ford\")\n",
    "ax2.plot(sp500, color = \"black\")\n",
    "ax2.axvline(x=1200)\n",
    "ax2.set_title(\"S&P500\")"
   ]
  },
  {
   "cell_type": "markdown",
   "id": "78359b93",
   "metadata": {},
   "source": [
    "Biorąc pod uwagę pierwsze 1200 danych (na lewo od niebieskiej linii) program będzie szacował najlepszą wartość współczynników $\\beta_0$ i $\\beta_1$, aby otrzymać wzór:\n",
    "\n",
    "$$F(t) = \\beta_0 + \\beta_1 \\cdot Sp(t)$$\n",
    "\n",
    "gdzie $F(t)$ oznacza szacowaną zmianę ceny akcji Forda w czasie $t$, a $Sp(t)$ zmianę ceny akcji S&P500 w czasie $t$.\n",
    "\n",
    "Następnie dla $t > 1200$ program wygeneruje wykres na podstawie wyliczonego wzoru."
   ]
  },
  {
   "cell_type": "code",
   "execution_count": null,
   "id": "48201bab",
   "metadata": {},
   "outputs": [],
   "source": [
    "linear_regression_plot(1200, \"Toyota & Mazda & Hyundai\", True)"
   ]
  },
  {
   "cell_type": "code",
   "execution_count": null,
   "id": "e9efc5de",
   "metadata": {},
   "outputs": [],
   "source": [
    "linear_regression_plot(1200, \"S&P500\", True)"
   ]
  },
  {
   "cell_type": "markdown",
   "id": "00c4c633",
   "metadata": {},
   "source": [
    "W tabeli mamy zapisane współczynniki $\\beta$. Równanie, którym szacujemy zmiany cen akcji Forda, ma więc postać:\n",
    "\n",
    "$$ F(t) = -0,000471731 + 1,14748 \\cdot Sp(t) $$\n",
    "\n",
    "Jak można było się spodziewać, to szacowanie nie jest zbyt dokładne. S&P500 jest ważnym wskaźnikiem, jednak nie mówi wiele o sytuacji w sektorze motoryzacyjnym. Mimo to widać podobieństwa między dwoma wykresami - mocny spadek w czasie $t \\approx 1000$ (wybuch pandemii), późniejszą tendencję wzrostową czy podobne zachowanie dla czasu $t \\approx 500$ i $t \\approx 250$. Można wywnioskować, że wtedy miały miejsca ogólne kryzysy lub wzrosty gospodarcze.\n"
   ]
  },
  {
   "cell_type": "markdown",
   "id": "ca8c350d",
   "metadata": {},
   "source": [
    "### Szacowanie na podstawie akcji General Motors"
   ]
  },
  {
   "cell_type": "markdown",
   "id": "d9afadd9",
   "metadata": {},
   "source": [
    "Spróbujmy więc odwzorować wykres cen Forda na podstawie akcji General Motors, których ceny lepiej odwzorowują kondycję rynku motoryzacyjnego. "
   ]
  },
  {
   "cell_type": "code",
   "execution_count": null,
   "id": "61eb56e7",
   "metadata": {},
   "outputs": [],
   "source": [
    "fig, (ax1, ax2) = plt.subplots(1, 2, figsize=(14,4))\n",
    "fig.suptitle('Porównanie cen akcji Forda i General Motors')\n",
    "ax1.plot(Ford, color = \"black\")\n",
    "ax1.axvline(x=1200)\n",
    "ax1.set_title(\"Ford\")\n",
    "ax2.plot(GM, color = \"black\")\n",
    "ax2.axvline(x=1200)\n",
    "ax2.set_title(\"General Motors\")"
   ]
  },
  {
   "cell_type": "markdown",
   "id": "d4ceac5a",
   "metadata": {},
   "source": [
    "Wykresy są bardziej podobne, gdyż firmy pochodzą z tego samego sektora. Możemy spodziewać się wierniejszego odwzorowania."
   ]
  },
  {
   "cell_type": "code",
   "execution_count": null,
   "id": "6f66d974",
   "metadata": {},
   "outputs": [],
   "source": [
    "linear_regression_plot(1200, \"GM\", True)"
   ]
  },
  {
   "cell_type": "markdown",
   "id": "2fd9c07f",
   "metadata": {},
   "source": [
    "Mimo, że odwzorowanie znowu zostało wykonane na podstawie akcji tylko jednej firmy, tym razem jest dużo dokładniejsze, a wykres szacowanych cen jest mniej przesunięty w górę względem rzeczywistego."
   ]
  },
  {
   "cell_type": "markdown",
   "id": "73876ac1",
   "metadata": {},
   "source": [
    "### Szacowanie na podstawie akcji General Motors, S&P500 oraz innych spółek motoryzacyjnych"
   ]
  },
  {
   "cell_type": "markdown",
   "id": "53fa2829",
   "metadata": {},
   "source": [
    "Teraz dokonajmy szacowania jednocześnie na podstawie akcji S&P500 oraz General Motors."
   ]
  },
  {
   "cell_type": "code",
   "execution_count": null,
   "id": "8eb8bdc1",
   "metadata": {},
   "outputs": [],
   "source": [
    "linear_regression_plot(1200, \"S&P500 & GM\", True)"
   ]
  },
  {
   "cell_type": "markdown",
   "id": "eed91739",
   "metadata": {},
   "source": [
    "Równanie ma postać:\n",
    "\n",
    "$$ F(t) = -0,000386032 + 0,611808 \\cdot Sp(t) + 0,454627 \\cdot G(t)$$\n",
    "\n",
    "gdzie $Sp(t)$ oraz $G(t)$ oznaczają kolejno zmiany ceny akcji S&P500 i General Motors w czasie $t$.\n",
    "\n",
    "Wygenerowany wykres dokładniej odwzorowuje kształt (widać różnicę w okolicach $t = 200$), gdyż wzięliśmy pod uwagę dwa indeksy - jeden ściśle powiązany z motoryzacją i jeden odnoszący się do ogólnej kondycji rynkowej. Możemy uwzględnić jeszcze jedną spółkę: Toyotę.  "
   ]
  },
  {
   "cell_type": "code",
   "execution_count": null,
   "id": "7fa14d74",
   "metadata": {},
   "outputs": [],
   "source": [
    "fig, (ax1, ax2) = plt.subplots(1, 2, figsize=(14,4))\n",
    "fig.suptitle('Porównanie cen akcji Forda i Toyoty')\n",
    "ax1.plot(Ford, color = \"black\")\n",
    "ax1.axvline(x=1200)\n",
    "ax1.set_title(\"Ford\")\n",
    "ax2.plot(Toyota, color = \"black\")\n",
    "ax2.axvline(x=1200)\n",
    "ax2.set_title(\"Toyota\")"
   ]
  },
  {
   "cell_type": "markdown",
   "id": "fd45a8a6",
   "metadata": {},
   "source": [
    "Wtedy dostaniemy:"
   ]
  },
  {
   "cell_type": "code",
   "execution_count": null,
   "id": "23d74f0a",
   "metadata": {},
   "outputs": [],
   "source": [
    "linear_regression_plot(1200, \"S&P500 & Toyota & GM\", True)"
   ]
  },
  {
   "cell_type": "markdown",
   "id": "9a250b81",
   "metadata": {},
   "source": [
    "$$ F(t) = -0,00038397 - 0,00678326 \\cdot Sp(t) + 0,454703 \\cdot T(t) + 0,611757 \\cdot G(t)$$\n",
    "\n",
    "gdzie $T(t)$ niech oznacza zmianę ceny akcji Toyoty w czasie $t$.\n",
    "\n",
    "Widać, że tutaj wartość akcji S&P500 ma dużo (100 razy!) mniejszą wagą niż wtedy, gdy Toyoty nie była brana pod uwagę. \n",
    "\n",
    "Dzieje się tak, ponieważ Toyota JEST W DUŻEJ KORELACJI z ceną firmy Ford, o wiele większej niż indeks S&P500, więc naturalnym następstwem jest branie jej do równania z większą wagą.\n",
    "\n",
    "Zobaczmy co stanie się, gdy wygenerujemy wykres uwzględniający jeszcze dwie spółki: Mazdę oraz Hyundai."
   ]
  },
  {
   "cell_type": "code",
   "execution_count": null,
   "id": "74065887",
   "metadata": {},
   "outputs": [],
   "source": [
    "fig, (ax1, ax2, ax3) = plt.subplots(1, 3, figsize=(16,3))\n",
    "ax1.plot(Ford, color = \"black\")\n",
    "ax1.axvline(x=1200)\n",
    "ax1.set_title(\"Ford\")\n",
    "ax2.plot(Hyundai, color = \"black\")\n",
    "ax2.axvline(x=1200)\n",
    "ax2.set_title(\"Hyundai\")\n",
    "ax3.plot(Mazda, color = \"black\")\n",
    "ax3.axvline(x=1200)\n",
    "ax3.set_title(\"Mazda\")"
   ]
  },
  {
   "cell_type": "code",
   "execution_count": null,
   "id": "22ddc86d",
   "metadata": {},
   "outputs": [],
   "source": [
    "linear_regression_plot(1200, \"S&P500 & Toyota & GM & Hyundai & Mazda\", True)"
   ]
  },
  {
   "cell_type": "markdown",
   "id": "91c6fac4",
   "metadata": {},
   "source": [
    "Współczynnik stojący przy cenach firmy Hyundai jest równy jedynie $0,00731119$, a przy Mazdzie $-0,0214686$ - wynika to z tego, że ceny ich akcji są innych rzędów niż ceny akcji Forda. \n",
    "\n",
    "Co ciekawe, mimo że wzięliśmy pod uwagę aż pięć indeksów i prawie cały wykres został odwzorowany z dużą dokładnością, nie udało się przewidzieć końcowego przyrostu akcji Forda ($t \\approx 1200$). Wskazuje to na niezależne zdarzenie, które zaszło w badanej firmie, a nie miało miejsca w innych."
   ]
  },
  {
   "cell_type": "markdown",
   "id": "9772b277",
   "metadata": {},
   "source": [
    "### Przewidywanie na podstawie cen akcji Toyoty, Hyundaia i Mazdy"
   ]
  },
  {
   "cell_type": "markdown",
   "id": "1fa67990",
   "metadata": {},
   "source": [
    "Do tej pory, używając regresji liniowej, odwzorowywaliśmy wykres cen akcji Forda. Czy możemy jednak użyć jej, aby przewidywać ceny? \n",
    "\n",
    "Weźmy akcje Toyoty, Mazdy i Hyundaia i sprawdźmy, że regresja liniowa dobrze odwzorowuje zmiany cen Forda."
   ]
  },
  {
   "cell_type": "code",
   "execution_count": null,
   "id": "4775ce2a",
   "metadata": {},
   "outputs": [],
   "source": [
    "linear_regression_plot(1100, \"Toyota & Mazda & Hyundai\", True)"
   ]
  },
  {
   "cell_type": "markdown",
   "id": "43a5813d",
   "metadata": {},
   "source": [
    "Co nam to daje?\n",
    "\n",
    "Firma Ford jest na giełdzie amerykańskiej, natomiast Toyota i Mazda na japońskiej, a Hyundai na południowokoreańskiej. Giełda nie jest otwarta przez cały dzień: londyńska jest otwarta w godzinach 9:00 -17:30, nowojorska 15:30-22:00, natomiast w Tokyo zamyka się już o 7:00 (godziny podane w czasie polskim). Oznacza to, że kiedy rynek amerykański dopiero się otwiera, japoński i południowokoreański są już zamknięte - wiemy zatem, jak tego dnia zachowały się akcje m.in Toyoty, Hyundaia i Mazdy. Na podstawie regresji liniowej możemy więc z pewnym przybliżeniem prognozować, co stanie się tego dnia z cenami akcji firmy Ford."
   ]
  },
  {
   "cell_type": "markdown",
   "id": "1e6580cd",
   "metadata": {},
   "source": [
    "## Model dwóch firm"
   ]
  },
  {
   "cell_type": "markdown",
   "id": "17530b9f",
   "metadata": {},
   "source": [
    "### Analitycznie"
   ]
  },
  {
   "cell_type": "markdown",
   "id": "b3ae4379",
   "metadata": {},
   "source": [
    "Załóżmy hipotetyczną sytację, w której na rynku znajdują się tylko dwie firmy, które konkurują między sobą o inwestorów, przez co rozumiemy, że inwestować można tylko w jedną z dwóch firm.\n",
    "\n",
    "Weźmy firmy: $x$ i $y$ i spróbujmy opisać równaniami, jak ich ceny akcji są od siebie zależne. Zacznijmy od firmy $x$.\n",
    "\n",
    "Załóżmy, że ceny akcji firmy $x$ będą stale przyrastać o pewną wartość zależną od ceny: $a \\cdot x$ - reprezentuje to klientów nabywających i sprzedających akcje niezależnie od firmy $y$. Dodatkowo, część kapitału ($b$) przepłynie do firmy $y$, ponieważ niektórzy sprzedadzą akcje firmy $x$, aby zakupić akcje firmy $y$. Podobnie w drugą stronę - ludzie będą kupować akcje firmy $x$ za pieniądze uzyskane ze sprzedaży akcji firmy $y$, co reprezentuje współczynnik $c$.  \n",
    "\n",
    "Opisuje to równanie:\n",
    "$$ \\frac{dx}{dt} = x \\cdot (a - b) + c \\cdot y $$\n",
    "\n",
    "W analogiczny sposób opiszemy zmianę cen akcji w firmie $y$ i otrzymamy układ równań:\n",
    "\n",
    "$$\n",
    "\\left\\{ \\begin{array}{ll}\n",
    "\\frac{dx}{dt} = x \\cdot (a - b) + c \\cdot y\\\\\n",
    "\\frac{dy}{dt} = y \\cdot (d - c) + b \\cdot x\\\\\n",
    "\\end{array} \\right.\n",
    "$$\n",
    "\n",
    "Aby rozwiązać go analitycznie, załóżmy że współczynniki $a, b, c, d$ są stałe i dodatnie oraz weźmy warunki początkowe $y(0) = y_0$ i $x(0) = x_0$. \n",
    "Dla uproszczenia obliczeń pod wyrażenia $(a-b)$ oraz $(d-c)$ podstawmy stałe $g = a-b$ i $f = d-c$. Mamy teraz:\n",
    "\n",
    "$$\n",
    "\\left\\{ \\begin{array}{ll}\n",
    "\\frac{dx}{dt} = x \\cdot g + c \\cdot y\\\\\n",
    "\\frac{dy}{dt} = y \\cdot f + b \\cdot x\\\\\n",
    "\\end{array} \\right.\n",
    "$$\n",
    "\n",
    "Z pierwszego równania wyznaczmy $y$:\n",
    "\n",
    "$$y = \\frac{1}{c}(\\frac{dx}{dt} - g x)$$\n",
    "\n",
    "Więc:\n",
    "\n",
    "$$\\frac{dy}{dt} = \\frac{1}{c}(\\frac{d^2x}{dt^2} - g \\frac{dx}{dt})$$\n",
    "\n",
    "Teraz podstawmy wyliczone $y$ i $\\frac{dy}{dt}$ do drugiego równania:\n",
    "\n",
    "$$\\frac{1}{c}(\\frac{d^2x}{dt^2} - g \\frac{dx}{dt}) = \\frac{f}{c}(\\frac{dx}{dt} - g x) + b \\cdot x$$ \n",
    "\n",
    "$$\\frac{d^2x}{dt^2} - g \\frac{dx}{dt} = f\\frac{dx}{dt} + x (bc - ef)$$ \n",
    "\n",
    "Przenosząc na jedną stronę otrzymujamy:\n",
    "\n",
    "$$\\frac{d^2x}{dt^2} - \\frac{dx}{dt} (g + f) + x (gf - bc) = 0$$ \n",
    "\n",
    "Jest to jednorodny układ równań drugiego stopnia o stałych współczynnikach. Jego wielomian charakterystyczny to:\n",
    "\n",
    "$$r^2 - r (g + f) + (gf - bc) = 0$$\n",
    "\n",
    "$$\\Delta = (g+f)^2 - 4(gf - bc)$$\n",
    "\n",
    "Sprawdźmy wartość $\\Delta$:\n",
    "\n",
    "$$\\Delta = (g+f)^2 - 4(gf - bc)$$\n",
    "$$\\Delta = g^2 + f^2 + 2gf - 4gf + 4bc$$\n",
    "$$\\Delta = (g - f)^2 + 4bc$$\n",
    "\n",
    "Współczynniki $b$ i $c$ są dodatnie, więc $\\Delta > 0$. W takim razie:\n",
    "\n",
    "$$r_{1,2} = \\frac{g + f \\pm \\sqrt{(g - f)^2 + 4bc}}{2}$$\n",
    "\n",
    "Rozwiązaniem równania jest:\n",
    "$$x(t) = C_1\\cdot e^{\\frac{g + f + \\sqrt{(g - f)^2 + 4bc}}{2} t } + C_2\\cdot e ^{\\frac{g + f - \\sqrt{(g - f)^2 + 4bc}}{2} t} $$\n",
    "\n",
    "Podstawiając $x(0) = x_0$:\n",
    "\n",
    "$$x(0) = C_1 + C_2 = x_0$$\n",
    "$$ C_2 = x_0 - C_1 $$\n",
    "\n",
    "Ostatecznie:\n",
    "$$x(t) = C_1\\cdot e^{\\frac{g + f + \\sqrt{(g - f)^2 + 4bc}}{2} t } + (x_0 - C_1)\\cdot e ^{\\frac{g + f - \\sqrt{(g - f)^2 + 4bc}}{2} t} $$\n",
    "\n",
    "Aby obliczyć $y(t)$, podstawimy otrzymane $x(t)$ do równania:\n",
    "\n",
    "$$y = \\frac{1}{c}(\\frac{dx}{dt} - g x)$$\n",
    "\n",
    "\n",
    "$$y = \\frac{1}{c}(C_1 \\cdot r_1 \\cdot e^{r_1\\cdot t} + (x_0 - C_1)\\cdot r_2 \\cdot e ^{r_2 \\cdot t} - g ( C_1 \\cdot e^{r_1\\cdot t} + (x_0 - C_1) \\cdot e ^{r_2 \\cdot t}))$$\n",
    "\n",
    "$$y = \\frac{1}{c} (e^{r_1 t} \\cdot C_1 (r_1 - g) + e^{r_2 t} \\cdot (x_0 - C_1)(r_2 - g)) $$\n",
    "\n",
    "\n",
    "Podstawiając $y(0) = y_0$:\n",
    "\n",
    "$$ C_1 = \\frac{c y_0 - x_0 \\cdot (r_2 - g)}{r_1 - r_2} $$\n",
    "\n",
    "$$C_2 = x_0 - C_1 = \\frac{x_0 \\cdot (r_1 - g) - c y_0}{r_1 - r_2} $$\n",
    "\n",
    "Zauważmy, że niezależnie od współczynników $r_1 \\ne r_2$, gdyż $\\Delta \\ne 0$.\n",
    "\n",
    "Ostatecznie:\n",
    "\n",
    "$$y(t) = \\frac{1}{c} (e^{r_1 t} \\cdot \\frac{c y_0 - x_0 \\cdot (r_2 - g)}{r_1 - r_2} (r_1 - g) + e^{r_2 t} \\cdot \\frac{x_0 \\cdot (r_1 - g) - c y_0}{r_1 - r_2}(r_2 - g)) $$\n",
    "\n",
    "$$x(t) = \\frac{c y_0 - x_0 \\cdot (r_2 - g)}{r_1 - r_2}\\cdot e^{r_1 t} + \\frac{x_0 \\cdot (r_1 - g) - c y_0}{r_1 - r_2}\\cdot e ^{r_2 t}  $$\n",
    "\n"
   ]
  },
  {
   "cell_type": "markdown",
   "id": "38218432",
   "metadata": {},
   "source": [
    "Wykorzystajmy to teraz w praktyce. Weźmy następujący układ równań:\n",
    "\n",
    "$$\n",
    "\\left\\{ \\begin{array}{ll}\n",
    "\\frac{dx}{dt} = x \\cdot (0,00025 - 0,0015) + 0,0015 \\cdot y\\\\\n",
    "\\frac{dy}{dt} = y \\cdot (0,00035 - 0,0015) + 0,0015 \\cdot x\\\\\n",
    "\\end{array} \\right.\n",
    "$$\n",
    "\n",
    "Ceny akcji firmy $x$ niezależnie rośną co jednostkę czasu o $0,025\\%$, a firmy $y$ o $0,035\\%$. Firma $y$ przejmuje $0,15\\%$ akcji firmy $x\\%$, a firma $x$ przejmuje $0,15\\%$ akcji firmy $y$. \n",
    "\n",
    "Weźmy warunki początkowe $x(0) = 5$, $y(0) = 10$.\n",
    "\n",
    "Po rozwiązaniu układu równań otrzymujemy:\n",
    "\n",
    "$$x(t) = 7,4139 \\cdot e^{0,0003 t} - 2,41393 \\cdot e^{-0,0027 t}$$\n",
    "\n",
    "$$y(t) = 7,6652 \\cdot e^{0,0003 t} + 2,3348 \\cdot e^{-0,0027 t}$$\n",
    "\n",
    "Wykresy funkcji $x(t)$ i $y(t)$ wyglądają następująco:"
   ]
  },
  {
   "cell_type": "code",
   "execution_count": null,
   "id": "030b66f6",
   "metadata": {},
   "outputs": [],
   "source": [
    "wygeneruj_wykres(0.00025, 0.0015, 0.0015, 0.00035, 5, 10)"
   ]
  },
  {
   "cell_type": "markdown",
   "id": "dacef695",
   "metadata": {},
   "source": [
    "### Numerycznie"
   ]
  },
  {
   "cell_type": "markdown",
   "id": "9d6da465",
   "metadata": {},
   "source": [
    "Jednak jeśli przyjrzymy się wykresowi cen dowolnych akcji, zobaczymy, że nie rośnie on w prosty sposób, a oscyluje. Weźmy na przykład S&P500 dla krótkiego okresu, aby dobrze było widać wahania:"
   ]
  },
  {
   "cell_type": "code",
   "execution_count": null,
   "id": "d1fb3292",
   "metadata": {},
   "outputs": [],
   "source": [
    "sp500 = take_data(\"SP500.csv\", 1)\n",
    "plt.title(\"S&P500\")\n",
    "plt.plot(sp500[4200:])\n",
    "plt.show()"
   ]
  },
  {
   "cell_type": "markdown",
   "id": "f4090f19",
   "metadata": {},
   "source": [
    "Mimo, że w wielu miejscach wystąpiły spadki ceny, dla doświadczonego akcjonariusza nie powinny być powodem go niepokoju. Jest to bowiem naturalne dla giełdy, iż po trwającym wzroście ceny nastąpi korekta - chwilowy spadek cen akcji - a później powrót do poprzedniego trendu. Dopiero jeśli \"korekta\" trwa zbyt długo, może świadczyć o pogarszającej się sytuacji. \n",
    "\n",
    "Aby lepiej odwzorować chwilowe wahania cen akcji, wszystike współczynniki $a, b, c, d$ w układzie równań nie mogą być stałe. \n",
    "\n",
    "$$\n",
    "\\left\\{ \\begin{array}{ll}\n",
    "\\frac{dx}{dt} = x \\cdot (a - b \\cdot \\sin{\\frac{t}{50}}) + c \\cdot (-\\sin{\\frac{t}{50}}) \\cdot y\\\\\n",
    "\\frac{dy}{dt} = y \\cdot (d - c \\cdot (-\\sin{\\frac{t}{50}})) +b \\cdot \\sin{\\frac{t}{50}}\\cdot x\\\\\n",
    "\\end{array} \\right.\n",
    "$$\n",
    "\n",
    "Czyli pod współczynnik $b$, określający procent akcji przepływający z firmy $x$ do firmy $y$ podstawiamy $b \\cdot \\sin{\\frac{t}{50}}$, aby był on zmienny w czasie. Bierzemy $\\sin{\\frac{t}{50}}$, nie $\\sin{t}$, aby zmiany nie następowały zbyt szybko.\n",
    "\n",
    "Pod współczynnik $c$ podstawiamy $c \\cdot (-\\sin{\\frac{t}{50}})$, gdyż jest to logiczne, że w momencie w którym dużo akcjonariuszy przepływa z firmy $x$ do firmy $y$, to do firmy $y$ nie będzie przybywać wiele z firmy $x$.\n",
    "\n",
    "Ten układ równań rozwiążemy metodą numeryczną, biorąc przeliczalne $t = 0, 1, 2, \\dots $ i zapisując:\n",
    "\n",
    "$$x(t+1) = x(t) + \\frac{dx}{dt}$$\n",
    "$$y(t+1) = y(t) + \\frac{dy}{dt}$$\n",
    "\n",
    "Mamy więc:\n",
    "\n",
    "$$x(t+1) = x(t) + x(t) \\cdot (a - b \\cdot \\sin{\\frac{t}{50}}) + c \\cdot (-\\sin{\\frac{t}{50}}) \\cdot y(t)$$\n",
    "\n",
    "$$y(t+1) = y(t) + y(t) \\cdot (d - c \\cdot (-\\sin{\\frac{t}{50}})) +b \\cdot \\sin{\\frac{t}{50}}\\cdot x(t)$$\n",
    "\n",
    "Poniżej przedstawiliśmy wykres tego rozwiązania dla:\n",
    "- warunków początkowych $x(0) = 32$, $y(0) = 47$, \n",
    "- $b = c = 0.0015/2$ \n",
    "- $a$ i $d$ średnio równych następująco: $1,00022$ i $1,00035$, ale oscylującymi między wartościami $1,0005$ a $1,00035$ i $1,0002$ a $1,00045$:"
   ]
  },
  {
   "cell_type": "code",
   "execution_count": null,
   "id": "28d5f417",
   "metadata": {},
   "outputs": [],
   "source": [
    "wykres_numerycznie1(sinusy = True)"
   ]
  },
  {
   "cell_type": "markdown",
   "id": "4c4d9329",
   "metadata": {},
   "source": [
    "Wciąż jednak nie wygląda on jak wykres cen akcji, gdyż jest zbyt gładki - znamy dokładny procent akcjonariuszy, który w danym czasie przejdzie z jednej firmy do drugiej. Dodajmy więc niewielki element losowy: "
   ]
  },
  {
   "cell_type": "code",
   "execution_count": null,
   "id": "f27878fa",
   "metadata": {},
   "outputs": [],
   "source": [
    "wykres_numerycznie1(sin_rand = True)"
   ]
  },
  {
   "cell_type": "markdown",
   "id": "736dc136",
   "metadata": {},
   "source": [
    "Jak wspomnieliśmy na początku pracy, dobrym odwzorowaniem kondycji rynku akcji jest zachowanie indexu S&P500. Aby symulacja była bardziej rzeczywista, należy to wykorzystać. Teraz skorzystamy ze wzoru:\n",
    "\n",
    "$$x(t+1) = x(t) + \\frac{dx}{dt} + \\frac{dSp}{dt}$$\n",
    "\n",
    "$$y(t+1) = y(t) + \\frac{dy}{dt} + \\frac{dSp}{dt}$$\n",
    "\n",
    "Gdzie $Sp(t)$ oznacza cenę akcji S&P500 w czasie $t$.\n",
    "\n",
    "Wykres z uwzględnieniem S&P500 oraz niewielkiego elementu losowego będzie wyglądał następująco:"
   ]
  },
  {
   "cell_type": "code",
   "execution_count": null,
   "id": "45094a91",
   "metadata": {},
   "outputs": [],
   "source": [
    "wykres_numerycznie1(sp = True)"
   ]
  },
  {
   "cell_type": "markdown",
   "id": "0eff277b",
   "metadata": {},
   "source": [
    "Fioletowy odcinek oznacza okres, w którym nastąpił nagły spadek cen akcji na wskutek wybuchu pandemii. Widać, że teraz ceny akcji firm $x$ i $y$ nie pozostały na niego obojętne i również spadły. \n",
    "\n",
    "Teraz pozostaje nam uwzględnić istotniejszy element losowy, czyli taki, który mocniej i trwalej wpłynie na ceny akcji firmy $x$ lub $y$. Tutaj możemy spodziewać się mocniejszych wahań, więc aby ceny akcji nie spadły do 0, weźmy inne warunki początkowe: $x(0) = 320 $, $y(0) = 470 $."
   ]
  },
  {
   "cell_type": "code",
   "execution_count": null,
   "id": "9bc77099",
   "metadata": {},
   "outputs": [],
   "source": [
    "wykres_numerycznie1(sin_rand_sp_events = True)"
   ]
  },
  {
   "cell_type": "markdown",
   "id": "68c0b23d",
   "metadata": {},
   "source": [
    "Zielony odcinek zaznacza punkt, w którym nastąpiło ważne zdarzenie losowe sprzyjające cenom akcji firmy $x$. Po nim ceny zaczęły szybko rosnąć. Natomiast czerwony odcinek reprezentuje zdarzenie niesprzyjające - po nim ceny przez firmy $x$ pewien czas spadały.\n",
    "\n",
    "W firmie $y$ również miały miejsce ważne wydarzenia losowe, jednak w trosce o czytelność wykresu zdecydowaliśmy się ich nie zaznaczać.\n",
    "\n",
    "Możemy ulepszyć symulację, biorąc zamiast $\\sin{\\frac{t}{50}}$ i $-\\sin{\\frac{t}{50}}$ na przykład $\\sin{\\frac{t}{40}}$ i $\\sin{\\frac{t}{70}}$ - wtedy korekty nie będą następywać w równych odstępach czasowych i będą się od siebie różnić:"
   ]
  },
  {
   "cell_type": "code",
   "execution_count": null,
   "id": "a331b501",
   "metadata": {},
   "outputs": [],
   "source": [
    "wykres_numerycznie2(sinusy = True)"
   ]
  },
  {
   "cell_type": "markdown",
   "id": "a2b76af9",
   "metadata": {},
   "source": [
    "Dodając szum:"
   ]
  },
  {
   "cell_type": "code",
   "execution_count": null,
   "id": "09de1851",
   "metadata": {},
   "outputs": [],
   "source": [
    "wykres_numerycznie2(sin_rand = True)"
   ]
  },
  {
   "cell_type": "markdown",
   "id": "3a5d224a",
   "metadata": {},
   "source": [
    "Po uwzględnieniu zmian cen akcji S&P500:"
   ]
  },
  {
   "cell_type": "code",
   "execution_count": null,
   "id": "93d18833",
   "metadata": {},
   "outputs": [],
   "source": [
    "wykres_numerycznie2(sp = True)"
   ]
  },
  {
   "cell_type": "markdown",
   "id": "c79a171e",
   "metadata": {},
   "source": [
    "Oraz ostatecznie po dodaniu istotnych zmian losowych:"
   ]
  },
  {
   "cell_type": "code",
   "execution_count": null,
   "id": "409c162c",
   "metadata": {},
   "outputs": [],
   "source": [
    "wykres_numerycznie2(sin_rand_sp_events = True)"
   ]
  },
  {
   "cell_type": "markdown",
   "id": "591a4405",
   "metadata": {},
   "source": [
    "Gdzie ponownie zielony odcinek oznacza punkt, w którym nastąpiło ważne zdarzenie losowe sprzyjające cenom akcji firmy $x$, a czerwony odcinek reprezentuje zdarzenie niesprzyjające."
   ]
  },
  {
   "cell_type": "code",
   "execution_count": 3,
   "id": "f351e119",
   "metadata": {},
   "outputs": [],
   "source": [
    "def wykres_numerycznie1(sinusy = False, sin_rand = False, sp = False, sin_rand_sp_events = False):\n",
    "    random.seed(12345)\n",
    "\n",
    "    sp500 = take_data(\"SP500.csv\", 1)\n",
    "    ford = take_data(\"Ford.csv\", 1)\n",
    "    GM = take_data(\"GM.csv\", 1)\n",
    "\n",
    "    delt_sp500 = np.diff((sp500))\n",
    "\n",
    "    sp500 = sp500[:2358]\n",
    "\n",
    "    if sinusy:\n",
    "        ford = take_data(\"Ford.csv\", 1)\n",
    "        GM = take_data(\"GM.csv\", 1)\n",
    "\n",
    "        GM = GM[336:]\n",
    "\n",
    "        ford_1 = [32]\n",
    "        GM_1 = [47]\n",
    "\n",
    "        for i in range(1,len(GM)):\n",
    "\n",
    "            gm_r =0.0015 * math.sin(i/50)/2 \n",
    "            f_r = 0.0015 * -math.sin((i/50))/2\n",
    "\n",
    "            a = 1 + 0.00001 * random.randint(5,35) #1.00022\n",
    "            b = 1 + 0.00001 * random.randint(20,45)  # 1.00035\n",
    "        \n",
    "\n",
    "            if i > 3:\n",
    "                ford_1.append((ford_1[i-1]*a) - (ford_1[i-1]*gm_r - GM_1[i-1]*f_r) ) \n",
    "                GM_1.append((GM_1[i-1]*b) + (ford_1[i-1]*gm_r-GM_1[i-1]*(f_r)))\n",
    "            else:\n",
    "                ford_1.append(ford_1[i-1]*1.00022 )\n",
    "                GM_1.append(GM_1[i-1]*1.00035 )\n",
    "\n",
    "        plt.plot(ford_1)\n",
    "        plt.plot(GM_1)\n",
    "        plt.legend(['Firma X', 'Firma Y'])\n",
    "        plt.title('Wykres bez elementów losowych')\n",
    "        plt.show()\n",
    "\n",
    "\n",
    "    if sin_rand:\n",
    "        ford = take_data(\"Ford.csv\", 1)\n",
    "        GM = take_data(\"GM.csv\", 1)\n",
    "\n",
    "        GM = GM[336:]\n",
    "\n",
    "        ford_1 = [32]\n",
    "        GM_1 = [47]\n",
    "\n",
    "        f_idx = 0\n",
    "        g_idx = 0\n",
    "\n",
    "        for i in range(1,len(GM)):\n",
    "\n",
    "            gm_r =0.0015 * math.sin(i/50)/2 \n",
    "            f_r = 0.0015 * -math.sin((i/50))/2\n",
    "\n",
    "            a = 1 + 0.00001 * random.randint(5,35)  #1.00022\n",
    "            b = 1 + 0.00001 * random.randint(20,45)  # 1.00035\n",
    "\n",
    "            if i > 3:\n",
    "                ford_1.append((ford_1[i-1]*a) - (ford_1[i-1]*gm_r - GM_1[i-1]*f_r)  + random.uniform(-0.25,0.25)) \n",
    "                GM_1.append((GM_1[i-1]*b) + (ford_1[i-1]*gm_r-GM_1[i-1]*(f_r)) +random.uniform(-0.25,0.25) )\n",
    "            else:\n",
    "                ford_1.append(ford_1[i-1]*1.00022 )\n",
    "                GM_1.append(GM_1[i-1]*1.00035 )\n",
    "\n",
    "\n",
    "        plt.plot(ford_1)\n",
    "        plt.plot(GM_1)\n",
    "        \n",
    "        plt.legend(['Firma X', 'Firma Y'])\n",
    "        plt.title('Wykres z nieznacznymi elementami losowymi')\n",
    "        plt.show()\n",
    "\n",
    "\n",
    "    if sp:\n",
    "        ford = take_data(\"Ford.csv\", 1)\n",
    "        GM = take_data(\"GM.csv\", 1)\n",
    "\n",
    "        GM = GM[336:]\n",
    "\n",
    "        ford_1 = [32]\n",
    "        GM_1 = [47]\n",
    "\n",
    "        f_idx = 0\n",
    "        g_idx = 0\n",
    "\n",
    "        for i in range(1,len(GM)):\n",
    "\n",
    "            gm_r = 0.0015 * math.sin(i/50)/2\n",
    "            f_r = 0.0015 * -math.sin((i/50))/2\n",
    "\n",
    "\n",
    "            ford_event = f_idx*(1 + 0.00001 * random.randint(5,35))\n",
    "            gm_event = g_idx*(1 + 0.00001 * random.randint(20,45))\n",
    "\n",
    "            sp_ford = 0.01 * random.randint(3,5)\n",
    "            sp_gm = 0.01 * random.randint(3,5)\n",
    "\n",
    "\n",
    "            a = 1 + 0.00001 * random.randint(25,35)  #1.00022\n",
    "            b = 1 + 0.00001 * random.randint(20,45)  # 1.00035\n",
    "\n",
    "            if i > 3:\n",
    "                ford_1.append((ford_1[i-1]*a) - (ford_1[i-1]*gm_r - GM_1[i-1]*f_r) + delt_sp500[i]*sp_ford  + random.uniform(-0.25,0.25) ) \n",
    "                GM_1.append((GM_1[i-1]*b) + (ford_1[i-1]*gm_r-GM_1[i-1]*(f_r))+ delt_sp500[i]*sp_gm +random.uniform(-0.25,0.25) )\n",
    "            else:\n",
    "                ford_1.append(ford_1[i-1]*1.00022 )\n",
    "                GM_1.append(GM_1[i-1]*1.00035 )\n",
    "\n",
    "        plt.plot(ford_1)\n",
    "        plt.plot(GM_1)\n",
    "        plt.axhline(y=10,xmin=0.48,xmax=0.53,color ='blue')\n",
    "        plt.legend(['Firma X', 'Firma Y', 'Krach S&P500'])\n",
    "        \n",
    "        plt.title('Wykres z uwzględnieniem S&P500')\n",
    "\n",
    "        plt.show()\n",
    "\n",
    "    if sin_rand_sp_events:\n",
    "\n",
    "        ford = take_data(\"Ford.csv\", 1)\n",
    "        GM = take_data(\"GM.csv\", 1)\n",
    "\n",
    "        GM = GM[336:]\n",
    "\n",
    "        ford_1 = [320]\n",
    "        GM_1 = [470]\n",
    "\n",
    "        f_idx = 0\n",
    "        g_idx = 0\n",
    "\n",
    "        good_ford_events = []\n",
    "        bad_ford_events = []\n",
    "\n",
    "        good_gm_events = []\n",
    "        bad_gm_events = []\n",
    "\n",
    "        for i in range(1,len(GM)):\n",
    "\n",
    "            x = random.randint(0,1000)\n",
    "            y = random.randint(0,1000)\n",
    "            gm_r = 0.0025 * math.sin(i/50)/4 \n",
    "            f_r = 0.0025 * -math.sin((i/50))/4\n",
    "\n",
    "            if x ==5:\n",
    "                f_idx = 6\n",
    "                good_ford_events.append(i) \n",
    "            elif x==3:\n",
    "                f_idx = -6 #989 idx \n",
    "                bad_ford_events.append(i)\n",
    "            else:\n",
    "                if f_idx!=0:\n",
    "                    if f_idx >0:\n",
    "                        f_idx +=-0.1\n",
    "                    else:\n",
    "                        f_idx += 0.1\n",
    "                else:\n",
    "                    f_idx = 0\n",
    "\n",
    "            if y == 4: \n",
    "                g_idx = 3  \n",
    "                good_gm_events.append(i)\n",
    "            elif y ==15:\n",
    "                g_idx = -3\n",
    "                bad_gm_events.append(i)\n",
    "            else:\n",
    "                if g_idx!=0:\n",
    "                    if g_idx >0:\n",
    "                        g_idx +=-0.1\n",
    "                    else:\n",
    "                        g_idx += 0.1\n",
    "                else:\n",
    "                    g_idx = 0    \n",
    "\n",
    "\n",
    "            ford_event = f_idx*(1 + 0.00001 * random.randint(5,35))\n",
    "            gm_event = g_idx*(1 + 0.00001 * random.randint(20,45))\n",
    "\n",
    "            sp_ford = 0.08 * random.randint(3,5)\n",
    "            sp_gm = 0.08 * random.randint(3,5) \n",
    "\n",
    "            a = 1 + 0.00001 * random.randint(15,35)  #1.00022\n",
    "            b = 1 + 0.00001 * random.randint(20,45)  # 1.00035\n",
    "\n",
    "\n",
    "            if i > 3:\n",
    "                ford_1.append((ford_1[i-1]*a) - (ford_1[i-1]*gm_r - GM_1[i-1]*f_r) + delt_sp500[i]*sp_ford  + random.uniform(-0.25,0.25)+ford_event ) \n",
    "                GM_1.append((GM_1[i-1]*b) + (ford_1[i-1]*gm_r-GM_1[i-1]*(f_r))+ delt_sp500[i]*sp_gm +random.uniform(-0.25,0.25) + gm_event )\n",
    "            else:\n",
    "                ford_1.append(ford_1[i-1]*1.00022 )\n",
    "                GM_1.append(GM_1[i-1]*1.00035 )\n",
    "\n",
    "\n",
    "        plt.plot(ford_1)\n",
    "        plt.plot(GM_1)\n",
    "        for event in good_ford_events:\n",
    "            plt.axvline(x=event, ymax=0.1, color = 'g')  \n",
    "        for event in bad_ford_events:\n",
    "            plt.axvline(x=event, ymax=0.1, color = 'r')\n",
    "\n",
    "        plt.axhline(y=100,xmin=0.48,xmax=0.53,color ='blue')\n",
    "        plt.legend(['Firma X', 'Firma Y', 'Dobre wydarzenie','Złe wydarzenie','Krach S&P500'])\n",
    "        plt.title('Wykres z uwzględnieniem S&P500 i ważnych zdarzeń losowych')\n",
    "        plt.show()"
   ]
  },
  {
   "cell_type": "code",
   "execution_count": null,
   "id": "b41ea855",
   "metadata": {},
   "outputs": [],
   "source": [
    "def wykres_numerycznie2(sinusy = False, sin_rand = False, sp = False, sin_rand_sp_events = False):\n",
    "    random.seed(12345)\n",
    "\n",
    "    sp500 = take_data(\"SP500.csv\", 1)\n",
    "    ford = take_data(\"Ford.csv\", 1)\n",
    "    GM = take_data(\"GM.csv\", 1)\n",
    "\n",
    "    delt_sp500 = np.diff((sp500))\n",
    "\n",
    "    sp500 = sp500[:2358]\n",
    "\n",
    "    if sinusy:\n",
    "        ford = take_data(\"Ford.csv\", 1)\n",
    "        GM = take_data(\"GM.csv\", 1)\n",
    "\n",
    "        GM = GM[336:]\n",
    "\n",
    "        ford_1 = [32]\n",
    "        GM_1 = [47]\n",
    "\n",
    "        for i in range(1,len(GM)):\n",
    "\n",
    "            gm_r =0.0015 * math.sin(i/40)/2 \n",
    "            f_r = 0.0015 * -math.sin((i/70))/2\n",
    "\n",
    "            a = 1 + 0.00001 * random.randint(5,35) #1.00022\n",
    "            b = 1 + 0.00001 * random.randint(20,45)  # 1.00035\n",
    "        \n",
    "\n",
    "            if i > 3:\n",
    "                ford_1.append((ford_1[i-1]*a) - (ford_1[i-1]*gm_r - GM_1[i-1]*f_r) ) \n",
    "                GM_1.append((GM_1[i-1]*b) + (ford_1[i-1]*gm_r-GM_1[i-1]*(f_r)))\n",
    "            else:\n",
    "                ford_1.append(ford_1[i-1]*1.00022 )\n",
    "                GM_1.append(GM_1[i-1]*1.00035 )\n",
    "\n",
    "        plt.plot(ford_1)\n",
    "        plt.plot(GM_1)\n",
    "        plt.legend(['Firma X', 'Firma Y'])\n",
    "        plt.title('Wykres bez elementów losowych')\n",
    "        plt.show()\n",
    "\n",
    "\n",
    "    if sin_rand:\n",
    "        ford = take_data(\"Ford.csv\", 1)\n",
    "        GM = take_data(\"GM.csv\", 1)\n",
    "\n",
    "        GM = GM[336:]\n",
    "\n",
    "        ford_1 = [32]\n",
    "        GM_1 = [47]\n",
    "\n",
    "        f_idx = 0\n",
    "        g_idx = 0\n",
    "\n",
    "        for i in range(1,len(GM)):\n",
    "\n",
    "            gm_r =0.0015 * math.sin(i/40)/2 \n",
    "            f_r = 0.0015 * -math.sin((i/70))/2\n",
    "\n",
    "            a = 1 + 0.00001 * random.randint(5,35)  #1.00022\n",
    "            b = 1 + 0.00001 * random.randint(20,45)  # 1.00035\n",
    "\n",
    "            if i > 3:\n",
    "                ford_1.append((ford_1[i-1]*a) - (ford_1[i-1]*gm_r - GM_1[i-1]*f_r)  + random.uniform(-0.25,0.25)) \n",
    "                GM_1.append((GM_1[i-1]*b) + (ford_1[i-1]*gm_r-GM_1[i-1]*(f_r)) +random.uniform(-0.25,0.25) )\n",
    "            else:\n",
    "                ford_1.append(ford_1[i-1]*1.00022 )\n",
    "                GM_1.append(GM_1[i-1]*1.00035 )\n",
    "\n",
    "\n",
    "        plt.plot(ford_1)\n",
    "        plt.plot(GM_1)\n",
    "        \n",
    "        plt.legend(['Firma X', 'Firma Y'])\n",
    "        plt.title('Wykres z nieznacznymi elementami losowymi')\n",
    "        plt.show()\n",
    "\n",
    "\n",
    "    if sp:\n",
    "        ford = take_data(\"Ford.csv\", 1)\n",
    "        GM = take_data(\"GM.csv\", 1)\n",
    "\n",
    "        GM = GM[336:]\n",
    "\n",
    "        ford_1 = [32]\n",
    "        GM_1 = [47]\n",
    "\n",
    "        f_idx = 0\n",
    "        g_idx = 0\n",
    "\n",
    "        for i in range(1,len(GM)):\n",
    "\n",
    "            gm_r = 0.0015 * math.sin(i/40)/2\n",
    "            f_r = 0.0015 * -math.sin((i/70))/2\n",
    "\n",
    "\n",
    "            ford_event = f_idx*(1 + 0.00001 * random.randint(5,35))\n",
    "            gm_event = g_idx*(1 + 0.00001 * random.randint(20,45))\n",
    "\n",
    "            sp_ford = 0.01 * random.randint(3,5)\n",
    "            sp_gm = 0.01 * random.randint(3,5)\n",
    "\n",
    "\n",
    "            a = 1 + 0.00001 * random.randint(25,35)  #1.00022\n",
    "            b = 1 + 0.00001 * random.randint(20,45)  # 1.00035\n",
    "\n",
    "            if i > 3:\n",
    "                ford_1.append((ford_1[i-1]*a) - (ford_1[i-1]*gm_r - GM_1[i-1]*f_r) + delt_sp500[i]*sp_ford  + random.uniform(-0.25,0.25) ) \n",
    "                GM_1.append((GM_1[i-1]*b) + (ford_1[i-1]*gm_r-GM_1[i-1]*(f_r))+ delt_sp500[i]*sp_gm +random.uniform(-0.25,0.25) )\n",
    "            else:\n",
    "                ford_1.append(ford_1[i-1]*1.00022 )\n",
    "                GM_1.append(GM_1[i-1]*1.00035 )\n",
    "\n",
    "        plt.plot(ford_1)\n",
    "        plt.plot(GM_1)\n",
    "        plt.axhline(y=10,xmin=0.48,xmax=0.53,color ='blue')\n",
    "        plt.legend(['Firma X', 'Firma Y', 'Krach S&P500'])\n",
    "        plt.title('Wykres z uwzględnieniem S&P500')\n",
    "\n",
    "        plt.show()\n",
    "\n",
    "    if sin_rand_sp_events:\n",
    "\n",
    "        ford = take_data(\"Ford.csv\", 1)\n",
    "        GM = take_data(\"GM.csv\", 1)\n",
    "\n",
    "        GM = GM[336:]\n",
    "\n",
    "        ford_1 = [320]\n",
    "        GM_1 = [470]\n",
    "\n",
    "        f_idx = 0\n",
    "        g_idx = 0\n",
    "\n",
    "        good_ford_events = []\n",
    "        bad_ford_events = []\n",
    "\n",
    "        good_gm_events = []\n",
    "        bad_gm_events = []\n",
    "\n",
    "        for i in range(1,len(GM)):\n",
    "\n",
    "            x = random.randint(0,1000)\n",
    "            y = random.randint(0,1000)\n",
    "            gm_r = 0.0025 * math.sin(i/40)/4 \n",
    "            f_r = 0.0025 * -math.sin((i/70))/4\n",
    "\n",
    "            if x ==5:\n",
    "                f_idx = 6\n",
    "                good_ford_events.append(i) \n",
    "            elif x==3:\n",
    "                f_idx = -6 #989 idx \n",
    "                bad_ford_events.append(i)\n",
    "            else:\n",
    "                if f_idx!=0:\n",
    "                    if f_idx >0:\n",
    "                        f_idx +=-0.1\n",
    "                    else:\n",
    "                        f_idx += 0.1\n",
    "                else:\n",
    "                    f_idx = 0\n",
    "\n",
    "            if y == 4: \n",
    "                g_idx = 3  \n",
    "                good_gm_events.append(i)\n",
    "            elif y ==15:\n",
    "                g_idx = -3\n",
    "                bad_gm_events.append(i)\n",
    "            else:\n",
    "                if g_idx!=0:\n",
    "                    if g_idx >0:\n",
    "                        g_idx +=-0.1\n",
    "                    else:\n",
    "                        g_idx += 0.1\n",
    "                else:\n",
    "                    g_idx = 0    \n",
    "\n",
    "\n",
    "            ford_event = f_idx*(1 + 0.00001 * random.randint(5,35))\n",
    "            gm_event = g_idx*(1 + 0.00001 * random.randint(20,45))\n",
    "\n",
    "            sp_ford = 0.08 * random.randint(3,5)\n",
    "            sp_gm = 0.08 * random.randint(3,5) \n",
    "\n",
    "            a = 1 + 0.00001 * random.randint(15,35)  #1.00022\n",
    "            b = 1 + 0.00001 * random.randint(20,45)  # 1.00035\n",
    "\n",
    "\n",
    "            if i > 3:\n",
    "                ford_1.append((ford_1[i-1]*a) - (ford_1[i-1]*gm_r - GM_1[i-1]*f_r) + delt_sp500[i]*sp_ford  + random.uniform(-0.25,0.25)+ford_event ) \n",
    "                GM_1.append((GM_1[i-1]*b) + (ford_1[i-1]*gm_r-GM_1[i-1]*(f_r))+ delt_sp500[i]*sp_gm +random.uniform(-0.25,0.25) + gm_event )\n",
    "            else:\n",
    "                ford_1.append(ford_1[i-1]*1.00022 )\n",
    "                GM_1.append(GM_1[i-1]*1.00035 )\n",
    "\n",
    "\n",
    "        plt.plot(ford_1)\n",
    "        plt.plot(GM_1)\n",
    "        for event in good_ford_events:\n",
    "            plt.axvline(x=event, ymax=0.1, color = 'g')  \n",
    "        for event in bad_ford_events:\n",
    "            plt.axvline(x=event, ymax=0.1, color = 'r')\n",
    "\n",
    "        plt.axhline(y=100,xmin=0.48,xmax=0.53,color ='blue')\n",
    "        plt.legend(['Firma X', 'Firma Y', 'Dobre wydarzenie','Złe wydarzenie','Krach S&P500'])\n",
    "        plt.title('Wykres z uwzględnieniem S&P500 i ważnych zdarzeń losowych')\n",
    "        plt.show()"
   ]
  },
  {
   "cell_type": "code",
   "execution_count": 5,
   "id": "53272cd1",
   "metadata": {},
   "outputs": [],
   "source": [
    "def oblicz_równanie(a, b, c, d, x_0, y_0):\n",
    "    g = a - b\n",
    "    f = d - c\n",
    "    r_1 = (g + f + math.sqrt((g-f)**2 + 4*b*c))/2\n",
    "    r_2 = (g + f - math.sqrt((g-f)**2 + 4*b*c))/2\n",
    "    C_1 = (c*y_0 - x_0*(r_2 - g))/(r_1 - r_2)\n",
    "    C_2 = (x_0*(r_1 - g) - c*y_0)/(r_1 - r_2)\n",
    "    y_const_1 = (1/c)*((r_1 - g)*C_1)\n",
    "    y_const_2 = (1/c)*((r_2 - g)*C_2)\n",
    "    return \"Y const 1: %s, Y const 2: %s, X conts 1: %s, X const 2: %s, r_1: %s, r_2: %s\" % (y_const_1, y_const_2, C_1, C_2, r_1, r_2)"
   ]
  },
  {
   "cell_type": "code",
   "execution_count": 6,
   "id": "6df9ec4d",
   "metadata": {},
   "outputs": [
    {
     "ename": "NameError",
     "evalue": "name 'math' is not defined",
     "output_type": "error",
     "traceback": [
      "\u001b[1;31m---------------------------------------------------------------------------\u001b[0m",
      "\u001b[1;31mNameError\u001b[0m                                 Traceback (most recent call last)",
      "\u001b[1;32m<ipython-input-6-99259270cacd>\u001b[0m in \u001b[0;36m<module>\u001b[1;34m\u001b[0m\n\u001b[1;32m----> 1\u001b[1;33m \u001b[0moblicz_równanie\u001b[0m\u001b[1;33m(\u001b[0m\u001b[1;36m0.00025\u001b[0m\u001b[1;33m,\u001b[0m \u001b[1;36m0.0015\u001b[0m\u001b[1;33m,\u001b[0m \u001b[1;36m0.0015\u001b[0m\u001b[1;33m,\u001b[0m \u001b[1;36m0.00035\u001b[0m\u001b[1;33m,\u001b[0m \u001b[1;36m5\u001b[0m\u001b[1;33m,\u001b[0m \u001b[1;36m10\u001b[0m\u001b[1;33m)\u001b[0m\u001b[1;33m\u001b[0m\u001b[1;33m\u001b[0m\u001b[0m\n\u001b[0m",
      "\u001b[1;32m<ipython-input-5-661295507c82>\u001b[0m in \u001b[0;36moblicz_równanie\u001b[1;34m(a, b, c, d, x_0, y_0)\u001b[0m\n\u001b[0;32m      2\u001b[0m     \u001b[0mg\u001b[0m \u001b[1;33m=\u001b[0m \u001b[0ma\u001b[0m \u001b[1;33m-\u001b[0m \u001b[0mb\u001b[0m\u001b[1;33m\u001b[0m\u001b[1;33m\u001b[0m\u001b[0m\n\u001b[0;32m      3\u001b[0m     \u001b[0mf\u001b[0m \u001b[1;33m=\u001b[0m \u001b[0md\u001b[0m \u001b[1;33m-\u001b[0m \u001b[0mc\u001b[0m\u001b[1;33m\u001b[0m\u001b[1;33m\u001b[0m\u001b[0m\n\u001b[1;32m----> 4\u001b[1;33m     \u001b[0mr_1\u001b[0m \u001b[1;33m=\u001b[0m \u001b[1;33m(\u001b[0m\u001b[0mg\u001b[0m \u001b[1;33m+\u001b[0m \u001b[0mf\u001b[0m \u001b[1;33m+\u001b[0m \u001b[0mmath\u001b[0m\u001b[1;33m.\u001b[0m\u001b[0msqrt\u001b[0m\u001b[1;33m(\u001b[0m\u001b[1;33m(\u001b[0m\u001b[0mg\u001b[0m\u001b[1;33m-\u001b[0m\u001b[0mf\u001b[0m\u001b[1;33m)\u001b[0m\u001b[1;33m**\u001b[0m\u001b[1;36m2\u001b[0m \u001b[1;33m+\u001b[0m \u001b[1;36m4\u001b[0m\u001b[1;33m*\u001b[0m\u001b[0mb\u001b[0m\u001b[1;33m*\u001b[0m\u001b[0mc\u001b[0m\u001b[1;33m)\u001b[0m\u001b[1;33m)\u001b[0m\u001b[1;33m/\u001b[0m\u001b[1;36m2\u001b[0m\u001b[1;33m\u001b[0m\u001b[1;33m\u001b[0m\u001b[0m\n\u001b[0m\u001b[0;32m      5\u001b[0m     \u001b[0mr_2\u001b[0m \u001b[1;33m=\u001b[0m \u001b[1;33m(\u001b[0m\u001b[0mg\u001b[0m \u001b[1;33m+\u001b[0m \u001b[0mf\u001b[0m \u001b[1;33m-\u001b[0m \u001b[0mmath\u001b[0m\u001b[1;33m.\u001b[0m\u001b[0msqrt\u001b[0m\u001b[1;33m(\u001b[0m\u001b[1;33m(\u001b[0m\u001b[0mg\u001b[0m\u001b[1;33m-\u001b[0m\u001b[0mf\u001b[0m\u001b[1;33m)\u001b[0m\u001b[1;33m**\u001b[0m\u001b[1;36m2\u001b[0m \u001b[1;33m+\u001b[0m \u001b[1;36m4\u001b[0m\u001b[1;33m*\u001b[0m\u001b[0mb\u001b[0m\u001b[1;33m*\u001b[0m\u001b[0mc\u001b[0m\u001b[1;33m)\u001b[0m\u001b[1;33m)\u001b[0m\u001b[1;33m/\u001b[0m\u001b[1;36m2\u001b[0m\u001b[1;33m\u001b[0m\u001b[1;33m\u001b[0m\u001b[0m\n\u001b[0;32m      6\u001b[0m     \u001b[0mC_1\u001b[0m \u001b[1;33m=\u001b[0m \u001b[1;33m(\u001b[0m\u001b[0mc\u001b[0m\u001b[1;33m*\u001b[0m\u001b[0my_0\u001b[0m \u001b[1;33m-\u001b[0m \u001b[0mx_0\u001b[0m\u001b[1;33m*\u001b[0m\u001b[1;33m(\u001b[0m\u001b[0mr_2\u001b[0m \u001b[1;33m-\u001b[0m \u001b[0mg\u001b[0m\u001b[1;33m)\u001b[0m\u001b[1;33m)\u001b[0m\u001b[1;33m/\u001b[0m\u001b[1;33m(\u001b[0m\u001b[0mr_1\u001b[0m \u001b[1;33m-\u001b[0m \u001b[0mr_2\u001b[0m\u001b[1;33m)\u001b[0m\u001b[1;33m\u001b[0m\u001b[1;33m\u001b[0m\u001b[0m\n",
      "\u001b[1;31mNameError\u001b[0m: name 'math' is not defined"
     ]
    }
   ],
   "source": [
    "oblicz_równanie(0.00025, 0.0015, 0.0015, 0.00035, 5, 10)"
   ]
  },
  {
   "cell_type": "code",
   "execution_count": null,
   "id": "e0d51747",
   "metadata": {},
   "outputs": [],
   "source": [
    "def wygeneruj_wykres(a, b, c, d, x_0, y_0):\n",
    "    g = a - b\n",
    "    f = d - c\n",
    "    r_1 = (g + f + math.sqrt((g-f)**2 + 4*b*c))/2\n",
    "    r_2 = (g + f - math.sqrt((g-f)**2 + 4*b*c))/2\n",
    "    C_1 = (c*y_0 - x_0*(r_2 - g))/(r_1 - r_2)\n",
    "    C_2 = (x_0*(r_1 - g) - c*y_0)/(r_1 - r_2)\n",
    "    y_const_1 = (1/c)*((r_1 - g)*C_1)\n",
    "    y_const_2 = (1/c)*((r_2 - g)*C_2)\n",
    "    x = [C_1*math.exp(t*r_1) + C_2 *math.exp(t*(r_2)) for t in range(0, 1000)]\n",
    "    y = [y_const_1*math.exp(t*r_1) + y_const_2*math.exp(t*(r_2)) for t in range(0, 1000) ]\n",
    "    plt.plot(x, label = \"Ceny akcji firmy x\")\n",
    "    plt.plot(y, label = \"Ceny akcji firmy y\")\n",
    "    plt.legend()\n",
    "    plt.show()  "
   ]
  },
  {
   "cell_type": "code",
   "execution_count": null,
   "id": "c82fb243",
   "metadata": {},
   "outputs": [],
   "source": [
    "wygeneruj_wykres(0.00025, 0.0015, 0.0015, 0.00035, 5, 10)"
   ]
  },
  {
   "cell_type": "code",
   "execution_count": null,
   "id": "b6987bbf",
   "metadata": {},
   "outputs": [],
   "source": [
    "def wykres(a, b, c, d):\n",
    "    \n",
    "    ford_1 = [5]\n",
    "    GM_1 = [10]\n",
    "\n",
    "    for i in range(1,1000):\n",
    "    \n",
    "        gm_r = b\n",
    "        f_r = c\n",
    "\n",
    "        if i > 3:\n",
    "            ford_1.append((ford_1[i-1]*a) - (ford_1[i-1]*gm_r - GM_1[i-1]*f_r))\n",
    "            GM_1.append((GM_1[i-1]*d) + (ford_1[i-1]*gm_r-GM_1[i-1]*(f_r)))\n",
    "        else:\n",
    "            ford_1.append(ford_1[i-1]*a)\n",
    "            GM_1.append(GM_1[i-1]*d)\n",
    "\n",
    "    plt.plot(ford_1)\n",
    "    plt.plot(GM_1)\n",
    "    plt.show()"
   ]
  },
  {
   "cell_type": "code",
   "execution_count": null,
   "id": "3aa0a2a0",
   "metadata": {},
   "outputs": [],
   "source": [
    "wykres(1.00025, 0.0015, 0.0015, 1.00035)"
   ]
  }
 ],
 "metadata": {
  "kernelspec": {
   "display_name": "Python 3",
   "language": "python",
   "name": "python3"
  },
  "language_info": {
   "codemirror_mode": {
    "name": "ipython",
    "version": 3
   },
   "file_extension": ".py",
   "mimetype": "text/x-python",
   "name": "python",
   "nbconvert_exporter": "python",
   "pygments_lexer": "ipython3",
   "version": "3.8.8"
  }
 },
 "nbformat": 4,
 "nbformat_minor": 5
}
